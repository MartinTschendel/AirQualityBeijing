{
  "nbformat": 4,
  "nbformat_minor": 0,
  "metadata": {
    "colab": {
      "name": "210123_kfold_DecisionTree.ipynb",
      "provenance": [],
      "collapsed_sections": []
    },
    "kernelspec": {
      "name": "python3",
      "display_name": "Python 3"
    }
  },
  "cells": [
    {
      "cell_type": "code",
      "metadata": {
        "colab": {
          "base_uri": "https://localhost:8080/",
          "height": 202
        },
        "id": "FDtysz684jbm",
        "outputId": "fbbc6c36-6c85-49d4-eb9b-371c68043c3c"
      },
      "source": [
        "import numpy as np\r\n",
        "import pandas as pd\r\n",
        "df = pd.read_csv('dataset_AirQual.csv')\r\n",
        "\r\n",
        "#use fillna() method to replace missing values with mean value\r\n",
        "df['pm2.5'].fillna(df['pm2.5'].mean(), inplace = True)\r\n",
        "\r\n",
        "#one hot encoding\r\n",
        "cols = df.columns.tolist()\r\n",
        "df_new = pd.get_dummies(df[cols])\r\n",
        "\r\n",
        "#put column pm2.5 at the end of the df\r\n",
        "#avoid one of the column rearrangement steps\r\n",
        "cols = df_new.columns.tolist()\r\n",
        "cols_new = cols[:5] + cols[6:] + cols[5:6]\r\n",
        "df_new = df_new[cols_new]\r\n",
        "df_new.head()"
      ],
      "execution_count": 1,
      "outputs": [
        {
          "output_type": "execute_result",
          "data": {
            "text/html": [
              "<div>\n",
              "<style scoped>\n",
              "    .dataframe tbody tr th:only-of-type {\n",
              "        vertical-align: middle;\n",
              "    }\n",
              "\n",
              "    .dataframe tbody tr th {\n",
              "        vertical-align: top;\n",
              "    }\n",
              "\n",
              "    .dataframe thead th {\n",
              "        text-align: right;\n",
              "    }\n",
              "</style>\n",
              "<table border=\"1\" class=\"dataframe\">\n",
              "  <thead>\n",
              "    <tr style=\"text-align: right;\">\n",
              "      <th></th>\n",
              "      <th>No</th>\n",
              "      <th>year</th>\n",
              "      <th>month</th>\n",
              "      <th>day</th>\n",
              "      <th>hour</th>\n",
              "      <th>DEWP</th>\n",
              "      <th>TEMP</th>\n",
              "      <th>PRES</th>\n",
              "      <th>Iws</th>\n",
              "      <th>Is</th>\n",
              "      <th>Ir</th>\n",
              "      <th>cbwd_NE</th>\n",
              "      <th>cbwd_NW</th>\n",
              "      <th>cbwd_SE</th>\n",
              "      <th>cbwd_cv</th>\n",
              "      <th>pm2.5</th>\n",
              "    </tr>\n",
              "  </thead>\n",
              "  <tbody>\n",
              "    <tr>\n",
              "      <th>0</th>\n",
              "      <td>1</td>\n",
              "      <td>2010</td>\n",
              "      <td>1</td>\n",
              "      <td>1</td>\n",
              "      <td>0</td>\n",
              "      <td>-21</td>\n",
              "      <td>-11.0</td>\n",
              "      <td>1021.0</td>\n",
              "      <td>1.79</td>\n",
              "      <td>0</td>\n",
              "      <td>0</td>\n",
              "      <td>0</td>\n",
              "      <td>1</td>\n",
              "      <td>0</td>\n",
              "      <td>0</td>\n",
              "      <td>98.613215</td>\n",
              "    </tr>\n",
              "    <tr>\n",
              "      <th>1</th>\n",
              "      <td>2</td>\n",
              "      <td>2010</td>\n",
              "      <td>1</td>\n",
              "      <td>1</td>\n",
              "      <td>1</td>\n",
              "      <td>-21</td>\n",
              "      <td>-12.0</td>\n",
              "      <td>1020.0</td>\n",
              "      <td>4.92</td>\n",
              "      <td>0</td>\n",
              "      <td>0</td>\n",
              "      <td>0</td>\n",
              "      <td>1</td>\n",
              "      <td>0</td>\n",
              "      <td>0</td>\n",
              "      <td>98.613215</td>\n",
              "    </tr>\n",
              "    <tr>\n",
              "      <th>2</th>\n",
              "      <td>3</td>\n",
              "      <td>2010</td>\n",
              "      <td>1</td>\n",
              "      <td>1</td>\n",
              "      <td>2</td>\n",
              "      <td>-21</td>\n",
              "      <td>-11.0</td>\n",
              "      <td>1019.0</td>\n",
              "      <td>6.71</td>\n",
              "      <td>0</td>\n",
              "      <td>0</td>\n",
              "      <td>0</td>\n",
              "      <td>1</td>\n",
              "      <td>0</td>\n",
              "      <td>0</td>\n",
              "      <td>98.613215</td>\n",
              "    </tr>\n",
              "    <tr>\n",
              "      <th>3</th>\n",
              "      <td>4</td>\n",
              "      <td>2010</td>\n",
              "      <td>1</td>\n",
              "      <td>1</td>\n",
              "      <td>3</td>\n",
              "      <td>-21</td>\n",
              "      <td>-14.0</td>\n",
              "      <td>1019.0</td>\n",
              "      <td>9.84</td>\n",
              "      <td>0</td>\n",
              "      <td>0</td>\n",
              "      <td>0</td>\n",
              "      <td>1</td>\n",
              "      <td>0</td>\n",
              "      <td>0</td>\n",
              "      <td>98.613215</td>\n",
              "    </tr>\n",
              "    <tr>\n",
              "      <th>4</th>\n",
              "      <td>5</td>\n",
              "      <td>2010</td>\n",
              "      <td>1</td>\n",
              "      <td>1</td>\n",
              "      <td>4</td>\n",
              "      <td>-20</td>\n",
              "      <td>-12.0</td>\n",
              "      <td>1018.0</td>\n",
              "      <td>12.97</td>\n",
              "      <td>0</td>\n",
              "      <td>0</td>\n",
              "      <td>0</td>\n",
              "      <td>1</td>\n",
              "      <td>0</td>\n",
              "      <td>0</td>\n",
              "      <td>98.613215</td>\n",
              "    </tr>\n",
              "  </tbody>\n",
              "</table>\n",
              "</div>"
            ],
            "text/plain": [
              "   No  year  month  day  hour  ...  cbwd_NE  cbwd_NW  cbwd_SE  cbwd_cv      pm2.5\n",
              "0   1  2010      1    1     0  ...        0        1        0        0  98.613215\n",
              "1   2  2010      1    1     1  ...        0        1        0        0  98.613215\n",
              "2   3  2010      1    1     2  ...        0        1        0        0  98.613215\n",
              "3   4  2010      1    1     3  ...        0        1        0        0  98.613215\n",
              "4   5  2010      1    1     4  ...        0        1        0        0  98.613215\n",
              "\n",
              "[5 rows x 16 columns]"
            ]
          },
          "metadata": {
            "tags": []
          },
          "execution_count": 1
        }
      ]
    },
    {
      "cell_type": "markdown",
      "metadata": {
        "id": "PNUecnM4XRbu"
      },
      "source": [
        "Before I start to build, train and validate the model, I want to check the correlation between the indepependent variables and the dependent variable pm2.5. The higher the cumulated wind speed (lws) and the more the wind is blowin from north west (cbwd_NW), the lower the concentration of pm2.5. <br>\r\n",
        "The more the wind is blowing from south west (cbwd_cv) and the higher the dew point (DEWP), the higher the concentration of pm2.5 in the air. The dew point indicates the absolute humidity. During times with high humidity, more pm2.5 particles can connect themselves with water droplets, that hover in the air."
      ]
    },
    {
      "cell_type": "code",
      "metadata": {
        "colab": {
          "base_uri": "https://localhost:8080/"
        },
        "id": "iYygjZ34X4Dg",
        "outputId": "5c6f20ad-3df9-40f5-bf7c-47a3a8233168"
      },
      "source": [
        "indep_var = cols_new[:-1]\r\n",
        "df_new[indep_var].corrwith(df_new['pm2.5']).sort_values()"
      ],
      "execution_count": 2,
      "outputs": [
        {
          "output_type": "execute_result",
          "data": {
            "text/plain": [
              "Iws       -0.239969\n",
              "cbwd_NW   -0.208616\n",
              "TEMP      -0.088204\n",
              "Ir        -0.050224\n",
              "PRES      -0.046298\n",
              "cbwd_NE   -0.032056\n",
              "month     -0.023533\n",
              "hour      -0.022573\n",
              "No        -0.017294\n",
              "year      -0.014354\n",
              "Is         0.019263\n",
              "day        0.080685\n",
              "cbwd_SE    0.094797\n",
              "cbwd_cv    0.152465\n",
              "DEWP       0.167334\n",
              "dtype: float64"
            ]
          },
          "metadata": {
            "tags": []
          },
          "execution_count": 2
        }
      ]
    },
    {
      "cell_type": "code",
      "metadata": {
        "id": "icNxvxBR5HTs"
      },
      "source": [
        "#get matrix arrays of dependent and independent variables\r\n",
        "X = df_new.iloc[:, :-1].values\r\n",
        "y = df_new.iloc[:, -1].values"
      ],
      "execution_count": null,
      "outputs": []
    },
    {
      "cell_type": "code",
      "metadata": {
        "id": "GHM8Wr-P5b9-"
      },
      "source": [
        "#train decision tree regression model\r\n",
        "\r\n",
        "from sklearn.preprocessing import StandardScaler\r\n",
        "from sklearn.linear_model import LinearRegression\r\n",
        "from sklearn.tree import DecisionTreeRegressor\r\n",
        "\r\n",
        "#training the model\r\n",
        "def train(X_train, y):\r\n",
        "  #scale the training set data\r\n",
        "  sc = StandardScaler()\r\n",
        "  X_train_trans = sc.fit_transform(X_train)\r\n",
        "  regressor = DecisionTreeRegressor(random_state=1)\r\n",
        "  regressor.fit(X_train_trans, y)\r\n",
        "\r\n",
        "  return regressor"
      ],
      "execution_count": null,
      "outputs": []
    },
    {
      "cell_type": "code",
      "metadata": {
        "id": "pifcrJDF6XGL"
      },
      "source": [
        "from sklearn.preprocessing import StandardScaler\r\n",
        "\r\n",
        "#make predictions (apply model to new data)\r\n",
        "def predict(X_val, regressor):\r\n",
        "  #scale the new data\r\n",
        "  sc = StandardScaler()\r\n",
        "  X_val_trans = sc.fit_transform(X_val)\r\n",
        "  y_pred = regressor.predict(X_val_trans)\r\n",
        "\r\n",
        "  return y_pred"
      ],
      "execution_count": null,
      "outputs": []
    },
    {
      "cell_type": "code",
      "metadata": {
        "id": "11rrIMDv6azN"
      },
      "source": [
        "from sklearn.metrics import mean_squared_error\r\n",
        "\r\n",
        "#do k-fold cross-validation\r\n",
        "from sklearn.model_selection import KFold\r\n",
        "kfold = KFold(n_splits=10, shuffle=True, random_state=1)\r\n",
        "mse_list = []\r\n",
        "\r\n",
        "\r\n",
        "for train_idx, val_idx in kfold.split(X):\r\n",
        "  #split data in train & val sets\r\n",
        "  X_train = X[train_idx]\r\n",
        "  X_val = X[val_idx]\r\n",
        "  y_train = y[train_idx]\r\n",
        "  y_val = y[val_idx]\r\n",
        "  #train model and make predictions\r\n",
        "  model = train(X_train, y_train)\r\n",
        "  y_pred = predict(X_val, model)\r\n",
        "  #evaluate\r\n",
        "  mse = mean_squared_error(y_val, y_pred)\r\n",
        "  mse_list.append(mse)   "
      ],
      "execution_count": null,
      "outputs": []
    },
    {
      "cell_type": "code",
      "metadata": {
        "colab": {
          "base_uri": "https://localhost:8080/"
        },
        "id": "YEWSCEEe6elV",
        "outputId": "bcf8c3f3-49fb-464a-a791-6572f1bde9b8"
      },
      "source": [
        "print('mse = %0.3f ± %0.3f' % (np.mean(mse_list), np.std(mse_list)))"
      ],
      "execution_count": null,
      "outputs": [
        {
          "output_type": "stream",
          "text": [
            "mse = 4327.621 ± 352.371\n"
          ],
          "name": "stdout"
        }
      ]
    },
    {
      "cell_type": "code",
      "metadata": {
        "colab": {
          "base_uri": "https://localhost:8080/"
        },
        "id": "1gwsb65P6fZt",
        "outputId": "f0919cf4-c7aa-4bfa-b951-a24d8eed0712"
      },
      "source": [
        "#compare predicted values with real ones\r\n",
        "np.set_printoptions(precision=2)\r\n",
        "conc_vec = np.concatenate((y_pred.reshape(len(y_pred),1), y_val.reshape(len(y_val),1)), 1)\r\n",
        "conc_vec[50:100]"
      ],
      "execution_count": null,
      "outputs": [
        {
          "output_type": "execute_result",
          "data": {
            "text/plain": [
              "array([[ 20.  ,  98.61],\n",
              "       [ 15.  ,  98.61],\n",
              "       [ 19.  ,  98.61],\n",
              "       [ 98.61,  98.61],\n",
              "       [ 98.61,  98.61],\n",
              "       [ 98.61, 127.  ],\n",
              "       [ 98.61, 340.  ],\n",
              "       [274.  , 298.  ],\n",
              "       [300.  , 299.  ],\n",
              "       [161.  ,  41.  ],\n",
              "       [161.  ,  16.  ],\n",
              "       [183.  ,  24.  ],\n",
              "       [ 17.  ,  36.  ],\n",
              "       [ 17.  ,  52.  ],\n",
              "       [ 98.61,  33.  ],\n",
              "       [ 53.  ,  72.  ],\n",
              "       [ 85.  ,  62.  ],\n",
              "       [ 18.  ,  43.  ],\n",
              "       [ 80.  ,  87.  ],\n",
              "       [ 24.  , 102.  ],\n",
              "       [ 64.  ,  51.  ],\n",
              "       [ 70.  ,  69.  ],\n",
              "       [ 76.  ,  71.  ],\n",
              "       [ 68.  , 162.  ],\n",
              "       [ 56.  , 185.  ],\n",
              "       [ 71.  , 166.  ],\n",
              "       [ 36.  ,  91.  ],\n",
              "       [ 54.  ,  49.  ],\n",
              "       [ 87.  ,  16.  ],\n",
              "       [ 29.  ,  11.  ],\n",
              "       [ 22.  ,   9.  ],\n",
              "       [ 10.  ,  13.  ],\n",
              "       [ 10.  ,  17.  ],\n",
              "       [ 12.  ,  22.  ],\n",
              "       [ 10.  ,  26.  ],\n",
              "       [ 10.  ,  13.  ],\n",
              "       [ 11.  ,  13.  ],\n",
              "       [ 28.  ,  53.  ],\n",
              "       [ 57.  ,  51.  ],\n",
              "       [  7.  ,   8.  ],\n",
              "       [ 10.  ,  19.  ],\n",
              "       [ 15.  ,  18.  ],\n",
              "       [ 79.  ,  99.  ],\n",
              "       [351.  , 237.  ],\n",
              "       [ 33.  ,  13.  ],\n",
              "       [ 57.  ,  48.  ],\n",
              "       [ 21.  ,  26.  ],\n",
              "       [119.  , 185.  ],\n",
              "       [ 44.  ,  40.  ],\n",
              "       [ 69.  , 165.  ]])"
            ]
          },
          "metadata": {
            "tags": []
          },
          "execution_count": 29
        }
      ]
    }
  ]
}