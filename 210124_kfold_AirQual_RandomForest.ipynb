{
  "nbformat": 4,
  "nbformat_minor": 0,
  "metadata": {
    "colab": {
      "name": "210123_kfold_AirQual_RandomForest.ipynb",
      "provenance": [],
      "collapsed_sections": []
    },
    "kernelspec": {
      "name": "python3",
      "display_name": "Python 3"
    }
  },
  "cells": [
    {
      "cell_type": "code",
      "metadata": {
        "colab": {
          "base_uri": "https://localhost:8080/",
          "height": 202
        },
        "id": "k8ROlCeC1Zg_",
        "outputId": "c147e70e-2a4d-404c-9ed3-78678c74a5d8"
      },
      "source": [
        "import numpy as np\r\n",
        "import pandas as pd\r\n",
        "df = pd.read_csv('dataset_AirQual.csv')\r\n",
        "\r\n",
        "#use fillna() method to replace missing values with mean value\r\n",
        "df['pm2.5'].fillna(df['pm2.5'].mean(), inplace = True)\r\n",
        "\r\n",
        "#one hot encoding\r\n",
        "cols = df.columns.tolist()\r\n",
        "df_new = pd.get_dummies(df[cols])\r\n",
        "\r\n",
        "#put column pm2.5 at the end of the df\r\n",
        "#avoid one of the column rearrangement steps\r\n",
        "cols = df_new.columns.tolist()\r\n",
        "cols_new = cols[:5] + cols[6:] + cols[5:6]\r\n",
        "df_new = df_new[cols_new]\r\n",
        "df_new.head()"
      ],
      "execution_count": 2,
      "outputs": [
        {
          "output_type": "execute_result",
          "data": {
            "text/html": [
              "<div>\n",
              "<style scoped>\n",
              "    .dataframe tbody tr th:only-of-type {\n",
              "        vertical-align: middle;\n",
              "    }\n",
              "\n",
              "    .dataframe tbody tr th {\n",
              "        vertical-align: top;\n",
              "    }\n",
              "\n",
              "    .dataframe thead th {\n",
              "        text-align: right;\n",
              "    }\n",
              "</style>\n",
              "<table border=\"1\" class=\"dataframe\">\n",
              "  <thead>\n",
              "    <tr style=\"text-align: right;\">\n",
              "      <th></th>\n",
              "      <th>No</th>\n",
              "      <th>year</th>\n",
              "      <th>month</th>\n",
              "      <th>day</th>\n",
              "      <th>hour</th>\n",
              "      <th>DEWP</th>\n",
              "      <th>TEMP</th>\n",
              "      <th>PRES</th>\n",
              "      <th>Iws</th>\n",
              "      <th>Is</th>\n",
              "      <th>Ir</th>\n",
              "      <th>cbwd_NE</th>\n",
              "      <th>cbwd_NW</th>\n",
              "      <th>cbwd_SE</th>\n",
              "      <th>cbwd_cv</th>\n",
              "      <th>pm2.5</th>\n",
              "    </tr>\n",
              "  </thead>\n",
              "  <tbody>\n",
              "    <tr>\n",
              "      <th>0</th>\n",
              "      <td>1</td>\n",
              "      <td>2010</td>\n",
              "      <td>1</td>\n",
              "      <td>1</td>\n",
              "      <td>0</td>\n",
              "      <td>-21</td>\n",
              "      <td>-11.0</td>\n",
              "      <td>1021.0</td>\n",
              "      <td>1.79</td>\n",
              "      <td>0</td>\n",
              "      <td>0</td>\n",
              "      <td>0</td>\n",
              "      <td>1</td>\n",
              "      <td>0</td>\n",
              "      <td>0</td>\n",
              "      <td>98.613215</td>\n",
              "    </tr>\n",
              "    <tr>\n",
              "      <th>1</th>\n",
              "      <td>2</td>\n",
              "      <td>2010</td>\n",
              "      <td>1</td>\n",
              "      <td>1</td>\n",
              "      <td>1</td>\n",
              "      <td>-21</td>\n",
              "      <td>-12.0</td>\n",
              "      <td>1020.0</td>\n",
              "      <td>4.92</td>\n",
              "      <td>0</td>\n",
              "      <td>0</td>\n",
              "      <td>0</td>\n",
              "      <td>1</td>\n",
              "      <td>0</td>\n",
              "      <td>0</td>\n",
              "      <td>98.613215</td>\n",
              "    </tr>\n",
              "    <tr>\n",
              "      <th>2</th>\n",
              "      <td>3</td>\n",
              "      <td>2010</td>\n",
              "      <td>1</td>\n",
              "      <td>1</td>\n",
              "      <td>2</td>\n",
              "      <td>-21</td>\n",
              "      <td>-11.0</td>\n",
              "      <td>1019.0</td>\n",
              "      <td>6.71</td>\n",
              "      <td>0</td>\n",
              "      <td>0</td>\n",
              "      <td>0</td>\n",
              "      <td>1</td>\n",
              "      <td>0</td>\n",
              "      <td>0</td>\n",
              "      <td>98.613215</td>\n",
              "    </tr>\n",
              "    <tr>\n",
              "      <th>3</th>\n",
              "      <td>4</td>\n",
              "      <td>2010</td>\n",
              "      <td>1</td>\n",
              "      <td>1</td>\n",
              "      <td>3</td>\n",
              "      <td>-21</td>\n",
              "      <td>-14.0</td>\n",
              "      <td>1019.0</td>\n",
              "      <td>9.84</td>\n",
              "      <td>0</td>\n",
              "      <td>0</td>\n",
              "      <td>0</td>\n",
              "      <td>1</td>\n",
              "      <td>0</td>\n",
              "      <td>0</td>\n",
              "      <td>98.613215</td>\n",
              "    </tr>\n",
              "    <tr>\n",
              "      <th>4</th>\n",
              "      <td>5</td>\n",
              "      <td>2010</td>\n",
              "      <td>1</td>\n",
              "      <td>1</td>\n",
              "      <td>4</td>\n",
              "      <td>-20</td>\n",
              "      <td>-12.0</td>\n",
              "      <td>1018.0</td>\n",
              "      <td>12.97</td>\n",
              "      <td>0</td>\n",
              "      <td>0</td>\n",
              "      <td>0</td>\n",
              "      <td>1</td>\n",
              "      <td>0</td>\n",
              "      <td>0</td>\n",
              "      <td>98.613215</td>\n",
              "    </tr>\n",
              "  </tbody>\n",
              "</table>\n",
              "</div>"
            ],
            "text/plain": [
              "   No  year  month  day  hour  ...  cbwd_NE  cbwd_NW  cbwd_SE  cbwd_cv      pm2.5\n",
              "0   1  2010      1    1     0  ...        0        1        0        0  98.613215\n",
              "1   2  2010      1    1     1  ...        0        1        0        0  98.613215\n",
              "2   3  2010      1    1     2  ...        0        1        0        0  98.613215\n",
              "3   4  2010      1    1     3  ...        0        1        0        0  98.613215\n",
              "4   5  2010      1    1     4  ...        0        1        0        0  98.613215\n",
              "\n",
              "[5 rows x 16 columns]"
            ]
          },
          "metadata": {
            "tags": []
          },
          "execution_count": 2
        }
      ]
    },
    {
      "cell_type": "markdown",
      "metadata": {
        "id": "zQXnxt8ER-uj"
      },
      "source": [
        "Before I start to build, train and validate the model, I want to check the correlation between the indepependent variables and the dependent variable pm2.5. The higher the cumulated wind speed (lws) and the more the wind is blowin from north west (cbwd_NW), the lower the concentration of pm2.5. <br>\r\n",
        "The more the wind is blowing from south west (cbwd_cv) and the higher the dew point (DEWP), the higher the concentration of pm2.5 in the air. The dew point indicates the absolute humidity. During times with high humidity, more pm2.5 particles can connect themselves with water droplets, that hover in the air."
      ]
    },
    {
      "cell_type": "code",
      "metadata": {
        "id": "9K2_MRiuQv73"
      },
      "source": [
        "indep_var = cols_new[:-1]"
      ],
      "execution_count": 15,
      "outputs": []
    },
    {
      "cell_type": "code",
      "metadata": {
        "colab": {
          "base_uri": "https://localhost:8080/"
        },
        "id": "wPOBRa9tPWPF",
        "outputId": "66e88a6b-d522-4b16-c4cc-66a1d177ca11"
      },
      "source": [
        "df_new[indep_var].corrwith(df_new['pm2.5']).sort_values()"
      ],
      "execution_count": 17,
      "outputs": [
        {
          "output_type": "execute_result",
          "data": {
            "text/plain": [
              "Iws       -0.239969\n",
              "cbwd_NW   -0.208616\n",
              "TEMP      -0.088204\n",
              "Ir        -0.050224\n",
              "PRES      -0.046298\n",
              "cbwd_NE   -0.032056\n",
              "month     -0.023533\n",
              "hour      -0.022573\n",
              "No        -0.017294\n",
              "year      -0.014354\n",
              "Is         0.019263\n",
              "day        0.080685\n",
              "cbwd_SE    0.094797\n",
              "cbwd_cv    0.152465\n",
              "DEWP       0.167334\n",
              "dtype: float64"
            ]
          },
          "metadata": {
            "tags": []
          },
          "execution_count": 17
        }
      ]
    },
    {
      "cell_type": "code",
      "metadata": {
        "id": "ISed4lxq2GQE"
      },
      "source": [
        "#get matrix arrays of dependent and independent variables\r\n",
        "X = df_new.iloc[:, :-1].values\r\n",
        "y = df_new.iloc[:, -1].values"
      ],
      "execution_count": null,
      "outputs": []
    },
    {
      "cell_type": "code",
      "metadata": {
        "id": "G9u1yKwX2I-g"
      },
      "source": [
        "#train random forest regression model\r\n",
        "\r\n",
        "from sklearn.preprocessing import StandardScaler\r\n",
        "from sklearn.linear_model import LinearRegression\r\n",
        "from sklearn.ensemble import RandomForestRegressor\r\n",
        "\r\n",
        "#training the model\r\n",
        "def train(X_train, y):\r\n",
        "  #scale the training set data\r\n",
        "  sc = StandardScaler()\r\n",
        "  X_train_trans = sc.fit_transform(X_train)\r\n",
        "  regressor = RandomForestRegressor(n_estimators = 10, random_state=1)\r\n",
        "  regressor.fit(X_train_trans, y)\r\n",
        "\r\n",
        "  return regressor"
      ],
      "execution_count": null,
      "outputs": []
    },
    {
      "cell_type": "code",
      "metadata": {
        "id": "1Rt5R12k2Tbe"
      },
      "source": [
        "from sklearn.preprocessing import StandardScaler\r\n",
        "\r\n",
        "#make predictions (apply model to new data)\r\n",
        "def predict(X_val, regressor):\r\n",
        "  #scale the new data\r\n",
        "  sc = StandardScaler()\r\n",
        "  X_val_trans = sc.fit_transform(X_val)\r\n",
        "  y_pred = regressor.predict(X_val_trans)\r\n",
        "\r\n",
        "  return y_pred"
      ],
      "execution_count": null,
      "outputs": []
    },
    {
      "cell_type": "code",
      "metadata": {
        "id": "aLSlby572Xwy"
      },
      "source": [
        "from sklearn.metrics import mean_squared_error\r\n",
        "\r\n",
        "#do k-fold cross-validation\r\n",
        "from sklearn.model_selection import KFold\r\n",
        "kfold = KFold(n_splits=10, shuffle=True, random_state=1)\r\n",
        "mse_list = []\r\n",
        "\r\n",
        "\r\n",
        "for train_idx, val_idx in kfold.split(X):\r\n",
        "  #split data in train & val sets\r\n",
        "  X_train = X[train_idx]\r\n",
        "  X_val = X[val_idx]\r\n",
        "  y_train = y[train_idx]\r\n",
        "  y_val = y[val_idx]\r\n",
        "  #train model and make predictions\r\n",
        "  model = train(X_train, y_train)\r\n",
        "  y_pred = predict(X_val, model)\r\n",
        "  #evaluate\r\n",
        "  mse = mean_squared_error(y_val, y_pred)\r\n",
        "  mse_list.append(mse)   "
      ],
      "execution_count": null,
      "outputs": []
    },
    {
      "cell_type": "code",
      "metadata": {
        "colab": {
          "base_uri": "https://localhost:8080/"
        },
        "id": "2hQXsB7i2jUH",
        "outputId": "a8f1717d-dfde-4d71-9300-758a9733d64a"
      },
      "source": [
        "print('mse = %0.3f ± %0.3f' % (np.mean(mse_list), np.std(mse_list)))"
      ],
      "execution_count": null,
      "outputs": [
        {
          "output_type": "stream",
          "text": [
            "mse = 2293.779 ± 135.446\n"
          ],
          "name": "stdout"
        }
      ]
    },
    {
      "cell_type": "code",
      "metadata": {
        "colab": {
          "base_uri": "https://localhost:8080/"
        },
        "id": "rZEQEN5W4F3F",
        "outputId": "a0695ce8-7a1a-4481-cb97-00bd28ef8b9e"
      },
      "source": [
        "#compare predicted values with real ones\r\n",
        "np.set_printoptions(precision=2)\r\n",
        "conc_vec = np.concatenate((y_pred.reshape(len(y_pred),1), y_val.reshape(len(y_val),1)), 1)\r\n",
        "conc_vec[50:100]"
      ],
      "execution_count": null,
      "outputs": [
        {
          "output_type": "execute_result",
          "data": {
            "text/plain": [
              "array([[ 62.21,  98.61],\n",
              "       [ 59.01,  98.61],\n",
              "       [ 63.67,  98.61],\n",
              "       [103.48,  98.61],\n",
              "       [ 99.17,  98.61],\n",
              "       [ 90.26, 127.  ],\n",
              "       [156.28, 340.  ],\n",
              "       [224.7 , 298.  ],\n",
              "       [222.8 , 299.  ],\n",
              "       [ 67.08,  41.  ],\n",
              "       [ 57.55,  16.  ],\n",
              "       [ 72.61,  24.  ],\n",
              "       [ 51.25,  36.  ],\n",
              "       [ 53.45,  52.  ],\n",
              "       [ 66.71,  33.  ],\n",
              "       [ 83.8 ,  72.  ],\n",
              "       [ 74.4 ,  62.  ],\n",
              "       [ 53.1 ,  43.  ],\n",
              "       [ 79.9 ,  87.  ],\n",
              "       [ 75.76, 102.  ],\n",
              "       [ 61.3 ,  51.  ],\n",
              "       [ 85.5 ,  69.  ],\n",
              "       [ 78.9 ,  71.  ],\n",
              "       [106.4 , 162.  ],\n",
              "       [107.1 , 185.  ],\n",
              "       [119.8 , 166.  ],\n",
              "       [ 59.  ,  91.  ],\n",
              "       [ 91.9 ,  49.  ],\n",
              "       [ 47.9 ,  16.  ],\n",
              "       [ 36.5 ,  11.  ],\n",
              "       [ 18.  ,   9.  ],\n",
              "       [ 22.8 ,  13.  ],\n",
              "       [ 24.7 ,  17.  ],\n",
              "       [ 20.  ,  22.  ],\n",
              "       [ 24.3 ,  26.  ],\n",
              "       [ 21.3 ,  13.  ],\n",
              "       [ 23.1 ,  13.  ],\n",
              "       [ 30.9 ,  53.  ],\n",
              "       [ 55.5 ,  51.  ],\n",
              "       [ 35.5 ,   8.  ],\n",
              "       [ 18.4 ,  19.  ],\n",
              "       [ 14.4 ,  18.  ],\n",
              "       [ 61.9 ,  99.  ],\n",
              "       [333.2 , 237.  ],\n",
              "       [ 18.1 ,  13.  ],\n",
              "       [ 73.8 ,  48.  ],\n",
              "       [ 30.9 ,  26.  ],\n",
              "       [152.  , 185.  ],\n",
              "       [ 57.8 ,  40.  ],\n",
              "       [153.5 , 165.  ]])"
            ]
          },
          "metadata": {
            "tags": []
          },
          "execution_count": 14
        }
      ]
    }
  ]
}